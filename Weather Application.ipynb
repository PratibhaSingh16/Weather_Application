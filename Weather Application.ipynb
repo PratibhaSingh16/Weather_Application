{
 "cells": [
  {
   "cell_type": "code",
   "execution_count": 8,
   "metadata": {},
   "outputs": [],
   "source": [
    "import tkinter as tk\n",
    "import requests\n",
    "import time\n",
    "\n",
    "def getWeather(canvas):\n",
    "    city = textfield.get()\n",
    "    api = \"http://api.openweathermap.org/data/2.5/weather?q=\" + city +\"&appid=8cddb2ca0d7be9d0273f2593e0a3cfb0\"\n",
    "    json_data = requests.get(api).json()\n",
    "    condition = json_data['weather'][0]['main']\n",
    "    temp = int(json_data['main']['temp'] - 273.15)\n",
    "    min_temp = int(json_data['main']['temp_min'] - 273.15)\n",
    "    max_temp = int(json_data['main']['temp_max'] - 273.15)\n",
    "    pressure = json_data['main']['pressure']\n",
    "    humidity = json_data['main']['humidity']\n",
    "    wind = json_data['wind']['speed']\n",
    "    sunrise = time.strftime(\"%I:%M:%S\", time.gmtime(json_data['sys']['sunrise'] - 21600))\n",
    "    sunset = time.strftime(\"%I:%M:%S\", time.gmtime(json_data['sys']['sunset'] - 21600))\n",
    "    \n",
    "    final_info = condition + \"\\n\" + str(temp) + \"˚C\"\n",
    "    final_data = \"\\n\" + \"Max Temp: \" + str(max_temp) + \"Min Temp: \" + str(min_temp) + \"\\n\" + \"Pressure: \" + str(pressure) + \"\\n\" + \"Humidity: \" + str(humidity) + \"\\n\" + \"Wind speed: \" + str(wind) + \"\\n\" + \"sunrise: \" + sunrise + \"\\n\" + \"Sunset: \" + sunset\n",
    "    label1.config(text = final_info)\n",
    "    label2.config(text = final_info)\n",
    "\n",
    "canvas = tk.Tk()\n",
    "canvas.geometry()\n",
    "canvas.title(\"Weather App\")\n",
    "\n",
    "f = (\"poppins\", 15, \"bold\")\n",
    "t = (\"poppins\", 35, \"bold\")\n",
    "\n",
    "textfield = tk.Entry(canvas, justify='center', font = t)\n",
    "textfield.pack(pady = 20)\n",
    "textfield.focus()\n",
    "textfield.bind('<Return>', getWeather)\n",
    "\n",
    "label1 = tk.Label(canvas, font = t)\n",
    "label1.pack()\n",
    "\n",
    "label2 = tk.Label(canvas, font = f)\n",
    "label2.pack()\n",
    "\n",
    "canvas.mainloop()\n"
   ]
  },
  {
   "cell_type": "code",
   "execution_count": null,
   "metadata": {},
   "outputs": [],
   "source": []
  },
  {
   "cell_type": "code",
   "execution_count": null,
   "metadata": {},
   "outputs": [],
   "source": []
  }
 ],
 "metadata": {
  "kernelspec": {
   "display_name": "Python 3",
   "language": "python",
   "name": "python3"
  },
  "language_info": {
   "codemirror_mode": {
    "name": "ipython",
    "version": 3
   },
   "file_extension": ".py",
   "mimetype": "text/x-python",
   "name": "python",
   "nbconvert_exporter": "python",
   "pygments_lexer": "ipython3",
   "version": "3.7.6"
  }
 },
 "nbformat": 4,
 "nbformat_minor": 4
}
